{
 "cells": [
  {
   "cell_type": "code",
   "execution_count": 1,
   "metadata": {},
   "outputs": [
    {
     "name": "stdout",
     "output_type": "stream",
     "text": [
      "Collecting transformers\n",
      "  Using cached https://files.pythonhosted.org/packages/13/33/ffb67897a6985a7b7d8e5e7878c3628678f553634bd3836404fef06ef19b/transformers-2.5.1-py3-none-any.whl\n",
      "Collecting tokenizers==0.5.2 (from transformers)\n",
      "  Using cached https://files.pythonhosted.org/packages/d1/3f/73c881ea4723e43c1e9acf317cf407fab3a278daab3a69c98dcac511c04f/tokenizers-0.5.2-cp36-cp36m-manylinux1_x86_64.whl\n",
      "Collecting numpy (from transformers)\n",
      "  Using cached https://files.pythonhosted.org/packages/62/20/4d43e141b5bc426ba38274933ef8e76e85c7adea2c321ecf9ebf7421cedf/numpy-1.18.1-cp36-cp36m-manylinux1_x86_64.whl\n",
      "Collecting sentencepiece (from transformers)\n",
      "  Using cached https://files.pythonhosted.org/packages/74/f4/2d5214cbf13d06e7cb2c20d84115ca25b53ea76fa1f0ade0e3c9749de214/sentencepiece-0.1.85-cp36-cp36m-manylinux1_x86_64.whl\n",
      "Collecting sacremoses (from transformers)\n",
      "Collecting regex!=2019.12.17 (from transformers)\n",
      "  Using cached https://files.pythonhosted.org/packages/ed/36/fd20c656fb4a4fbe8db367ea274c3465b81cb2e01ffc57b9980f0578e131/regex-2020.2.20-cp36-cp36m-manylinux1_x86_64.whl\n",
      "Collecting tqdm>=4.27 (from transformers)\n",
      "  Using cached https://files.pythonhosted.org/packages/47/55/fd9170ba08a1a64a18a7f8a18f088037316f2a41be04d2fe6ece5a653e8f/tqdm-4.43.0-py2.py3-none-any.whl\n",
      "Collecting boto3 (from transformers)\n",
      "  Using cached https://files.pythonhosted.org/packages/94/46/674e053664219627064940c1d13960bcf2bde984158e516ebc721d50193e/boto3-1.12.21-py2.py3-none-any.whl\n",
      "Collecting requests (from transformers)\n",
      "  Using cached https://files.pythonhosted.org/packages/1a/70/1935c770cb3be6e3a8b78ced23d7e0f3b187f5cbfab4749523ed65d7c9b1/requests-2.23.0-py2.py3-none-any.whl\n",
      "Collecting filelock (from transformers)\n",
      "  Using cached https://files.pythonhosted.org/packages/93/83/71a2ee6158bb9f39a90c0dea1637f81d5eef866e188e1971a1b1ab01a35a/filelock-3.0.12-py3-none-any.whl\n",
      "Collecting joblib (from sacremoses->transformers)\n",
      "  Using cached https://files.pythonhosted.org/packages/28/5c/cf6a2b65a321c4a209efcdf64c2689efae2cb62661f8f6f4bb28547cf1bf/joblib-0.14.1-py2.py3-none-any.whl\n",
      "Collecting click (from sacremoses->transformers)\n",
      "  Using cached https://files.pythonhosted.org/packages/dd/c0/4d8f43a9b16e289f36478422031b8a63b54b6ac3b1ba605d602f10dd54d6/click-7.1.1-py2.py3-none-any.whl\n",
      "Collecting six (from sacremoses->transformers)\n",
      "  Using cached https://files.pythonhosted.org/packages/65/eb/1f97cb97bfc2390a276969c6fae16075da282f5058082d4cb10c6c5c1dba/six-1.14.0-py2.py3-none-any.whl\n",
      "Collecting botocore<1.16.0,>=1.15.21 (from boto3->transformers)\n",
      "  Using cached https://files.pythonhosted.org/packages/dc/40/058c6fbb24a721581a956ddde36cee0321ac496a6778dd76c910dd7eb381/botocore-1.15.21-py2.py3-none-any.whl\n",
      "Collecting jmespath<1.0.0,>=0.7.1 (from boto3->transformers)\n",
      "  Using cached https://files.pythonhosted.org/packages/a3/43/1e939e1fcd87b827fe192d0c9fc25b48c5b3368902bfb913de7754b0dc03/jmespath-0.9.5-py2.py3-none-any.whl\n",
      "Collecting s3transfer<0.4.0,>=0.3.0 (from boto3->transformers)\n",
      "  Using cached https://files.pythonhosted.org/packages/69/79/e6afb3d8b0b4e96cefbdc690f741d7dd24547ff1f94240c997a26fa908d3/s3transfer-0.3.3-py2.py3-none-any.whl\n",
      "Collecting urllib3!=1.25.0,!=1.25.1,<1.26,>=1.21.1 (from requests->transformers)\n",
      "  Using cached https://files.pythonhosted.org/packages/e8/74/6e4f91745020f967d09332bb2b8b9b10090957334692eb88ea4afe91b77f/urllib3-1.25.8-py2.py3-none-any.whl\n",
      "Collecting idna<3,>=2.5 (from requests->transformers)\n",
      "  Using cached https://files.pythonhosted.org/packages/89/e3/afebe61c546d18fb1709a61bee788254b40e736cff7271c7de5de2dc4128/idna-2.9-py2.py3-none-any.whl\n",
      "Collecting certifi>=2017.4.17 (from requests->transformers)\n",
      "  Using cached https://files.pythonhosted.org/packages/b9/63/df50cac98ea0d5b006c55a399c3bf1db9da7b5a24de7890bc9cfd5dd9e99/certifi-2019.11.28-py2.py3-none-any.whl\n",
      "Collecting chardet<4,>=3.0.2 (from requests->transformers)\n",
      "  Using cached https://files.pythonhosted.org/packages/bc/a9/01ffebfb562e4274b6487b4bb1ddec7ca55ec7510b22e4c51f14098443b8/chardet-3.0.4-py2.py3-none-any.whl\n",
      "Collecting docutils<0.16,>=0.10 (from botocore<1.16.0,>=1.15.21->boto3->transformers)\n",
      "  Using cached https://files.pythonhosted.org/packages/22/cd/a6aa959dca619918ccb55023b4cb151949c64d4d5d55b3f4ffd7eee0c6e8/docutils-0.15.2-py3-none-any.whl\n",
      "Collecting python-dateutil<3.0.0,>=2.1 (from botocore<1.16.0,>=1.15.21->boto3->transformers)\n",
      "  Using cached https://files.pythonhosted.org/packages/d4/70/d60450c3dd48ef87586924207ae8907090de0b306af2bce5d134d78615cb/python_dateutil-2.8.1-py2.py3-none-any.whl\n",
      "Installing collected packages: tokenizers, numpy, sentencepiece, tqdm, joblib, click, six, regex, sacremoses, docutils, python-dateutil, jmespath, urllib3, botocore, s3transfer, boto3, idna, certifi, chardet, requests, filelock, transformers\n",
      "Successfully installed boto3-1.12.21 botocore-1.15.21 certifi-2019.11.28 chardet-3.0.4 click-7.1.1 docutils-0.15.2 filelock-3.0.12 idna-2.9 jmespath-0.9.5 joblib-0.14.1 numpy-1.18.1 python-dateutil-2.8.1 regex-2020.2.20 requests-2.23.0 s3transfer-0.3.3 sacremoses-0.0.38 sentencepiece-0.1.85 six-1.14.0 tokenizers-0.5.2 tqdm-4.43.0 transformers-2.5.1 urllib3-1.25.8\n"
     ]
    }
   ],
   "source": [
    "!pip3 install transformers"
   ]
  },
  {
   "cell_type": "code",
   "execution_count": 2,
   "metadata": {},
   "outputs": [],
   "source": [
    "import torch"
   ]
  },
  {
   "cell_type": "code",
   "execution_count": 3,
   "metadata": {},
   "outputs": [
    {
     "name": "stderr",
     "output_type": "stream",
     "text": [
      "/usr/lib/python3/dist-packages/h5py/__init__.py:36: FutureWarning: Conversion of the second argument of issubdtype from `float` to `np.floating` is deprecated. In future, it will be treated as `np.float64 == np.dtype(float).type`.\n",
      "  from ._conv import register_converters as _register_converters\n"
     ]
    }
   ],
   "source": [
    "from transformers import BertForQuestionAnswering\n",
    "\n",
    "model = BertForQuestionAnswering.from_pretrained('bert-large-uncased-whole-word-masking-finetuned-squad')"
   ]
  },
  {
   "cell_type": "code",
   "execution_count": 4,
   "metadata": {},
   "outputs": [],
   "source": [
    "from transformers import BertTokenizer\n",
    "\n",
    "tokenizer = BertTokenizer.from_pretrained('bert-large-uncased-whole-word-masking-finetuned-squad')"
   ]
  },
  {
   "cell_type": "code",
   "execution_count": 5,
   "metadata": {},
   "outputs": [],
   "source": [
    "def ask_BERT(question, answer_text):\n",
    "    '''\n",
    "    Takes a `question` string and an `answer_text` string (which contains the\n",
    "    answer), and identifies the words within the `answer_text` that are the\n",
    "    answer. Prints them out.\n",
    "    '''\n",
    "    # ======== Tokenize ========\n",
    "    # Apply the tokenizer to the input text, treating them as a text-pair.\n",
    "    input_ids = tokenizer.encode(question, answer_text)\n",
    "\n",
    "    # ======== Set Segment IDs ========\n",
    "    # Search the input_ids for the first instance of the `[SEP]` token.\n",
    "    sep_index = input_ids.index(tokenizer.sep_token_id)\n",
    "\n",
    "    # The number of segment A tokens includes the [SEP] token istelf.\n",
    "    num_seg_a = sep_index + 1\n",
    "\n",
    "    # The remainder are segment B.\n",
    "    num_seg_b = len(input_ids) - num_seg_a\n",
    "\n",
    "    # Construct the list of 0s and 1s.\n",
    "    segment_ids = [0]*num_seg_a + [1]*num_seg_b\n",
    "\n",
    "    # There should be a segment_id for every input token.\n",
    "    assert len(segment_ids) == len(input_ids)\n",
    "\n",
    "    # ======== Evaluate ========\n",
    "    # Run our example question through the model.\n",
    "    start_scores, end_scores = model(torch.tensor([input_ids]), # The tokens representing our input text.\n",
    "                                    token_type_ids=torch.tensor([segment_ids])) # The segment IDs to differentiate question from answer_text\n",
    "\n",
    "    # ======== Reconstruct Answer ========\n",
    "    # Find the tokens with the highest `start` and `end` scores.\n",
    "    answer_start = torch.argmax(start_scores)\n",
    "    answer_end = torch.argmax(end_scores)\n",
    "\n",
    "    # Get the string versions of the input tokens.\n",
    "    tokens = tokenizer.convert_ids_to_tokens(input_ids)\n",
    "\n",
    "    # Start with the first token.\n",
    "    answer = tokens[answer_start]\n",
    "\n",
    "    # Select the remaining answer tokens and join them with whitespace.\n",
    "    for i in range(answer_start + 1, answer_end + 1):\n",
    "        \n",
    "        # If it's a subword token, then recombine it with the previous token.\n",
    "        if tokens[i][0:2] == '##':\n",
    "            answer += tokens[i][2:]\n",
    "        \n",
    "        # Otherwise, add a space then the token.\n",
    "        else:\n",
    "            answer += ' ' + tokens[i]\n",
    "\n",
    "    print('Answer: \"' + answer + '\"')"
   ]
  },
  {
   "cell_type": "code",
   "execution_count": 6,
   "metadata": {},
   "outputs": [],
   "source": [
    "import textwrap\n",
    "\n",
    "# Wrap text to 80 characters.\n",
    "wrapper = textwrap.TextWrapper(width=80) "
   ]
  },
  {
   "cell_type": "code",
   "execution_count": 7,
   "metadata": {},
   "outputs": [
    {
     "name": "stdout",
     "output_type": "stream",
     "text": [
      "George Washington (February 22, 1732[b] – December 14, 1799) was an American\n",
      "political leader, military general, statesman, and Founding Father who served as\n",
      "the first president of the United States from 1789 to 1797. Previously, he led\n",
      "Patriot forces to victory in the nation's War for Independence. He presided at\n",
      "the Constitutional Convention of 1787, which established the U.S. Constitution\n",
      "and a federal government. Washington has been called the 'Father of His Country'\n",
      "for his manifold leadership in the formative days of the new nation.Washington\n",
      "received his initial military training and command with the Virginia Regiment\n",
      "during the French and Indian War. He was later elected to the Virginia House of\n",
      "Burgesses and was named a delegate to the Continental Congress, where he was\n",
      "appointed Commanding General of the Continental Army. He commanded American\n",
      "forces, allied with France, in the defeat and surrender of the British during\n",
      "the Siege of Yorktown. He resigned his commission after the Treaty of Paris in\n",
      "1783.Washington played a key role in adopting and ratifying the Constitution and\n",
      "was then elected president (twice) by the Electoral College. He implemented a\n",
      "strong, well-financed national government while remaining impartial in a fierce\n",
      "rivalry between cabinet members Thomas Jefferson and Alexander Hamilton. During\n",
      "the French Revolution, he proclaimed a policy of neutrality while sanctioning\n",
      "the Jay Treaty. He set enduring precedents for the office of president,\n",
      "including the title 'President of the United States', and his Farewell Address\n",
      "is widely regarded as a pre-eminent statement on republicanism.Washington owned\n",
      "slaves, and in order to preserve national unity he supported measures passed by\n",
      "Congress to protect slavery. He later became troubled with the institution of\n",
      "slavery and freed his slaves in a 1799 will. He endeavored to assimilate Native\n",
      "Americans into Anglo-American culture but combated indigenous resistance during\n",
      "occasions of violent conflict. He was a member of the Anglican Church and the\n",
      "Freemasons, and he urged broad religious freedom in his roles as general and\n",
      "president. Upon his death, he was eulogized as 'first in war, first in peace,\n",
      "and first in the hearts of his countrymen'. He has been memorialized by\n",
      "monuments, art, geographical locations, stamps, and currency, and many scholars\n",
      "and polls rank him among the greatest U.S. presidents.\n"
     ]
    }
   ],
   "source": [
    "George_Wasington_bio = \"George Washington (February 22, 1732[b] – December 14, 1799) was an American political leader, military general, statesman, and Founding Father who served as the first president of the United States from 1789 to 1797. Previously, he led Patriot forces to victory in the nation's War for Independence. He presided at the Constitutional Convention of 1787, which established the U.S. Constitution and a federal government. Washington has been called the 'Father of His Country' for his manifold leadership in the formative days of the new nation.\\\n",
    "Washington received his initial military training and command with the Virginia Regiment during the French and Indian War. He was later elected to the Virginia House of Burgesses and was named a delegate to the Continental Congress, where he was appointed Commanding General of the Continental Army. He commanded American forces, allied with France, in the defeat and surrender of the British during the Siege of Yorktown. He resigned his commission after the Treaty of Paris in 1783.\\\n",
    "Washington played a key role in adopting and ratifying the Constitution and was then elected president (twice) by the Electoral College. He implemented a strong, well-financed national government while remaining impartial in a fierce rivalry between cabinet members Thomas Jefferson and Alexander Hamilton. During the French Revolution, he proclaimed a policy of neutrality while sanctioning the Jay Treaty. He set enduring precedents for the office of president, including the title 'President of the United States', and his Farewell Address is widely regarded as a pre-eminent statement on republicanism.\\\n",
    "Washington owned slaves, and in order to preserve national unity he supported measures passed by Congress to protect slavery. He later became troubled with the institution of slavery and freed his slaves in a 1799 will. He endeavored to assimilate Native Americans into Anglo-American culture but combated indigenous resistance during occasions of violent conflict. He was a member of the Anglican Church and the Freemasons, and he urged broad religious freedom in his roles as general and president. Upon his death, he was eulogized as 'first in war, first in peace, and first in the hearts of his countrymen'. He has been memorialized by monuments, art, geographical locations, stamps, and currency, and many scholars and polls rank him among the greatest U.S. presidents.\"\n",
    "\n",
    "print(wrapper.fill(George_Wasington_bio))"
   ]
  },
  {
   "cell_type": "code",
   "execution_count": 9,
   "metadata": {},
   "outputs": [
    {
     "name": "stdout",
     "output_type": "stream",
     "text": [
      "Answer: \"george washington\"\n"
     ]
    }
   ],
   "source": [
    "question = \"Who was the first president?\"\n",
    "\n",
    "ask_BERT(question, George_Wasington_bio)"
   ]
  },
  {
   "cell_type": "code",
   "execution_count": 11,
   "metadata": {},
   "outputs": [
    {
     "name": "stdout",
     "output_type": "stream",
     "text": [
      "Answer: \"february 22 , 1732\"\n"
     ]
    }
   ],
   "source": [
    "question = \"When was George Washinton Born?\"\n",
    "\n",
    "ask_BERT(question, George_Wasington_bio)"
   ]
  },
  {
   "cell_type": "code",
   "execution_count": 12,
   "metadata": {},
   "outputs": [
    {
     "name": "stdout",
     "output_type": "stream",
     "text": [
      "Answer: \"december 14 , 1799\"\n"
     ]
    }
   ],
   "source": [
    "question = \"When did George Washinton Die?\"\n",
    "\n",
    "ask_BERT(question, George_Wasington_bio)"
   ]
  },
  {
   "cell_type": "code",
   "execution_count": 13,
   "metadata": {},
   "outputs": [
    {
     "name": "stdout",
     "output_type": "stream",
     "text": [
      "Answer: \"war for independence\"\n"
     ]
    }
   ],
   "source": [
    "question = \"What war was George Washington in?\"\n",
    "\n",
    "ask_BERT(question, George_Wasington_bio)"
   ]
  },
  {
   "cell_type": "code",
   "execution_count": 14,
   "metadata": {},
   "outputs": [
    {
     "name": "stdout",
     "output_type": "stream",
     "text": [
      "Answer: \"thomas jefferson and alexander hamilton\"\n"
     ]
    }
   ],
   "source": [
    "question = \"What Cabinet members had a fierce rivalry?\"\n",
    "\n",
    "ask_BERT(question, George_Wasington_bio)"
   ]
  },
  {
   "cell_type": "code",
   "execution_count": 15,
   "metadata": {},
   "outputs": [
    {
     "name": "stdout",
     "output_type": "stream",
     "text": [
      "Answer: \"' first in war , first in peace , and first in the hearts of his countrymen\"\n"
     ]
    }
   ],
   "source": [
    "question = \"How was George Washington eulogized?\"\n",
    "\n",
    "ask_BERT(question, George_Wasington_bio)"
   ]
  },
  {
   "cell_type": "code",
   "execution_count": 16,
   "metadata": {},
   "outputs": [
    {
     "name": "stdout",
     "output_type": "stream",
     "text": [
      "Super Bowl LIV was an American football game played to determine the champion of\n",
      "the National Football League (NFL) for the 2019 season. The American Football\n",
      "Conference (AFC) champion Kansas City Chiefs defeated the National Football\n",
      "Conference (NFC) champion San Francisco 49ers 31–20, marking their first Super\n",
      "Bowl victory since Super Bowl IV and the Chiefs' first NFL championship since\n",
      "joining the league in the AFL–NFL merger. Chiefs quarterback Patrick Mahomes won\n",
      "the Super Bowl Most Valuable Player Award. Mahomes completed 26 of 42 pass\n",
      "attempts for 286 yards (two touchdowns, two interceptions) and rushed for 29\n",
      "yards (one touchdown).[8]The game was played on February 2, 2020, at Hard Rock\n",
      "Stadium in Miami Gardens, Florida. This was the 11th Super Bowl hosted by the\n",
      "South Florida region and the sixth Super Bowl hosted in Miami Gardens, which\n",
      "hosted Super Bowl XLIV ten years earlier.The first half of the game was back and\n",
      "forth between both teams, with the game tied at 10 heading into halftime. In the\n",
      "third quarter, the 49ers began to pull away, with a Robbie Gould field goal and\n",
      "a rushing touchdown by Raheem Mostert giving them a 20–10 lead heading into the\n",
      "fourth quarter. However, over the last 6:13 of the game, the Chiefs offense\n",
      "completed two touchdown drives with Mahomes throwing touchdown passes to Travis\n",
      "Kelce and Damien Williams, to take the lead just before the two-minute warning.\n",
      "The Chiefs then stopped the 49ers on defense, and a late rushing touchdown by\n",
      "Damien Williams, as well as a Kendall Fuller interception, sealed the victory\n",
      "and ended the Chiefs' 50-year championship drought.[9]The game's broadcast in\n",
      "the United States by Fox, along with the halftime show headlined by Jennifer\n",
      "Lopez and Shakira, was seen by an estimated 102 million viewers—a slight\n",
      "increase over Super Bowl LIII in 2019 (which had seen the smallest audience for\n",
      "the game in 10 years).\n"
     ]
    }
   ],
   "source": [
    "SB_LIV_story =\"Super Bowl LIV was an American football game played to determine the champion of the National Football League (NFL) for the 2019 season. The American Football Conference (AFC) champion Kansas City Chiefs defeated the National Football Conference (NFC) champion San Francisco 49ers 31–20, marking their first Super Bowl victory since Super Bowl IV and the Chiefs' first NFL championship since joining the league in the AFL–NFL merger. Chiefs quarterback Patrick Mahomes won the Super Bowl Most Valuable Player Award. Mahomes completed 26 of 42 pass attempts for 286 yards (two touchdowns, two interceptions) and rushed for 29 yards (one touchdown).[8]\\\n",
    "The game was played on February 2, 2020, at Hard Rock Stadium in Miami Gardens, Florida. This was the 11th Super Bowl hosted by the South Florida region and the sixth Super Bowl hosted in Miami Gardens, which hosted Super Bowl XLIV ten years earlier.\\\n",
    "The first half of the game was back and forth between both teams, with the game tied at 10 heading into halftime. In the third quarter, the 49ers began to pull away, with a Robbie Gould field goal and a rushing touchdown by Raheem Mostert giving them a 20–10 lead heading into the fourth quarter. However, over the last 6:13 of the game, the Chiefs offense completed two touchdown drives with Mahomes throwing touchdown passes to Travis Kelce and Damien Williams, to take the lead just before the two-minute warning. The Chiefs then stopped the 49ers on defense, and a late rushing touchdown by Damien Williams, as well as a Kendall Fuller interception, sealed the victory and ended the Chiefs' 50-year championship drought.[9]\\\n",
    "The game's broadcast in the United States by Fox, along with the halftime show headlined by Jennifer Lopez and Shakira, was seen by an estimated 102 million viewers—a slight increase over Super Bowl LIII in 2019 (which had seen the smallest audience for the game in 10 years).\"\n",
    "\n",
    "print(wrapper.fill(SB_LIV_story))"
   ]
  },
  {
   "cell_type": "code",
   "execution_count": 17,
   "metadata": {},
   "outputs": [
    {
     "name": "stdout",
     "output_type": "stream",
     "text": [
      "Answer: \"kansas city chiefs\"\n"
     ]
    }
   ],
   "source": [
    "question = \"Who won SuperBowl LIV?\"\n",
    "\n",
    "ask_BERT(question, SB_LIV_story)"
   ]
  },
  {
   "cell_type": "code",
   "execution_count": 18,
   "metadata": {},
   "outputs": [
    {
     "name": "stdout",
     "output_type": "stream",
     "text": [
      "Answer: \"san francisco 49ers\"\n"
     ]
    }
   ],
   "source": [
    "question = \"Who lost SuperBowl LIV?\"\n",
    "\n",
    "ask_BERT(question, SB_LIV_story)"
   ]
  },
  {
   "cell_type": "code",
   "execution_count": 19,
   "metadata": {},
   "outputs": [
    {
     "name": "stdout",
     "output_type": "stream",
     "text": [
      "Answer: \"31 – 20\"\n"
     ]
    }
   ],
   "source": [
    "question = \"What was the score of SuperBowl LIV?\"\n",
    "\n",
    "ask_BERT(question, SB_LIV_story)"
   ]
  },
  {
   "cell_type": "code",
   "execution_count": 20,
   "metadata": {},
   "outputs": [
    {
     "name": "stdout",
     "output_type": "stream",
     "text": [
      "Answer: \"two\"\n"
     ]
    }
   ],
   "source": [
    "question = \"How many Touchdowns were scored in SuperBowl LIV?\"\n",
    "\n",
    "ask_BERT(question, SB_LIV_story)"
   ]
  },
  {
   "cell_type": "code",
   "execution_count": 21,
   "metadata": {},
   "outputs": [
    {
     "name": "stdout",
     "output_type": "stream",
     "text": [
      "Answer: \"patrick mahomes\"\n"
     ]
    }
   ],
   "source": [
    "question = \"Who was the MVP in SuperBowl LIV?\"\n",
    "\n",
    "ask_BERT(question, SB_LIV_story)"
   ]
  },
  {
   "cell_type": "code",
   "execution_count": 22,
   "metadata": {},
   "outputs": [
    {
     "name": "stdout",
     "output_type": "stream",
     "text": [
      "Answer: \"field goal\"\n"
     ]
    }
   ],
   "source": [
    "question = \"What did Robbie Gould do in SuperBowl LIV?\"\n",
    "\n",
    "ask_BERT(question, SB_LIV_story)"
   ]
  },
  {
   "cell_type": "code",
   "execution_count": 24,
   "metadata": {},
   "outputs": [],
   "source": [
    "with open(\"movies-sequence-input.txt\", \"r\", encoding=\"utf-8\") as file_input:\n",
    "    movie_input = file_input.read()\n"
   ]
  },
  {
   "cell_type": "code",
   "execution_count": 26,
   "metadata": {},
   "outputs": [
    {
     "name": "stdout",
     "output_type": "stream",
     "text": [
      "Answer: \"cameron\"\n"
     ]
    }
   ],
   "source": [
    "question = \"Hello how are you\"\n",
    "\n",
    "ask_BERT(question, movie_input[0:470])"
   ]
  },
  {
   "cell_type": "code",
   "execution_count": 27,
   "metadata": {},
   "outputs": [
    {
     "name": "stdout",
     "output_type": "stream",
     "text": [
      "Answer: \"cameron\"\n"
     ]
    }
   ],
   "source": [
    "question = \"Will you marry me?\"\n",
    "\n",
    "ask_BERT(question, movie_input[0:470])"
   ]
  },
  {
   "cell_type": "code",
   "execution_count": 28,
   "metadata": {},
   "outputs": [
    {
     "name": "stdout",
     "output_type": "stream",
     "text": [
      "Answer: \"cameron\"\n"
     ]
    }
   ],
   "source": [
    "question = \"The sun is hot\"\n",
    "\n",
    "ask_BERT(question, movie_input[0:470])"
   ]
  },
  {
   "cell_type": "code",
   "execution_count": null,
   "metadata": {},
   "outputs": [],
   "source": []
  }
 ],
 "metadata": {
  "kernelspec": {
   "display_name": "Python 3",
   "language": "python",
   "name": "python3"
  },
  "language_info": {
   "codemirror_mode": {
    "name": "ipython",
    "version": 3
   },
   "file_extension": ".py",
   "mimetype": "text/x-python",
   "name": "python",
   "nbconvert_exporter": "python",
   "pygments_lexer": "ipython3",
   "version": "3.6.9"
  }
 },
 "nbformat": 4,
 "nbformat_minor": 2
}
