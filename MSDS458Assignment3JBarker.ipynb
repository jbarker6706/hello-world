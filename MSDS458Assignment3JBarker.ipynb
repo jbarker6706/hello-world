{
 "cells": [
  {
   "cell_type": "code",
   "execution_count": 106,
   "metadata": {},
   "outputs": [],
   "source": [
    "import numpy as np\n",
    "\n",
    "from keras.utils.np_utils import to_categorical   \n",
    "import tensorflow as tf\n",
    "from keras.layers import Dense, Flatten\n",
    "from keras.layers.convolutional import Conv1D\n",
    "from keras.layers.convolutional import MaxPooling1D\n",
    "from keras.layers import LSTM\n",
    "from keras.models import Sequential\n",
    "from keras.layers import Dense, Activation, Dropout\n",
    "from keras.datasets import imdb\n",
    "from keras import preprocessing\n",
    "from keras.optimizers import Adam\n",
    "import time\n",
    "import matplotlib.pyplot as plt\n",
    "#import seaborn as sns\n",
    "from sklearn import metrics\n",
    "\n",
    "from sklearn.datasets import make_circles\n",
    "from sklearn.metrics import accuracy_score\n",
    "from sklearn.metrics import precision_score\n",
    "from sklearn.metrics import recall_score\n",
    "from sklearn.metrics import f1_score\n",
    "from sklearn.metrics import cohen_kappa_score\n",
    "from sklearn.metrics import roc_auc_score\n",
    "from sklearn.metrics import confusion_matrix\n",
    "\n",
    "#Lists to hold model data\n",
    "Networks = []\n",
    "TestLabels = []\n",
    "Processing_Time = []\n",
    "Training_Set_Accuracy = []\n",
    "Test_Set_Accuracy = []\n",
    "History = []\n",
    "Predicts = []\n",
    "Classes = []\n",
    "\n",
    "# Number of words to consider as features\n",
    "max_features = 10000\n",
    "# Cut texts after this number of words \n",
    "# (among top max_features most common words)\n",
    "maxlen = 200\n",
    "\n",
    "max_epochs = 100  \n",
    "earlystop_callback = \\\n",
    "    tf.keras.callbacks.EarlyStopping(monitor='val_acc',\\\n",
    "    min_delta=0.01, patience=5, verbose=0, mode='auto',\\\n",
    "    baseline=None, restore_best_weights=False)\n"
   ]
  },
  {
   "cell_type": "code",
   "execution_count": 107,
   "metadata": {},
   "outputs": [],
   "source": [
    "def updateModeldata(name):     \n",
    "    Networks.append(name)\n",
    "    Processing_Time.append(elapsed)\n",
    "    TestLabels.append(y_test)\n",
    "    score, acc_train = model.evaluate(x_train, y_train)\n",
    "    score, acc_test = model.evaluate(x_test, y_test)\n",
    "    Training_Set_Accuracy.append(acc_train)\n",
    "    Test_Set_Accuracy.append(acc_test)\n",
    "    History.append(history)\n",
    "    Predicts.append(y_preds)            \n",
    "    Classes.append(y_classes)"
   ]
  },
  {
   "cell_type": "code",
   "execution_count": 108,
   "metadata": {},
   "outputs": [],
   "source": [
    "def plotLosses(network):  \n",
    "    plt.plot(history.history['loss'])\n",
    "    plt.plot(history.history['val_loss'])\n",
    "\n",
    "\n",
    "    plt.title('Sentiment loss with ' + network)\n",
    "\n",
    "    plt.ylabel('loss')\n",
    "    plt.xlabel('epoch')\n",
    "    plt.legend(['train', 'validation'], loc='upper left')\n",
    "    plt.show()"
   ]
  },
  {
   "cell_type": "code",
   "execution_count": 109,
   "metadata": {},
   "outputs": [],
   "source": [
    "from keras.layers import Embedding\n",
    "\n",
    "# The Embedding layer takes at least two arguments:\n",
    "# the number of possible tokens, here 1000 (1 + maximum word index),\n",
    "# and the dimensionality of the embeddings, here 64.\n",
    "embedding_layer = Embedding(1000, 64)"
   ]
  },
  {
   "cell_type": "code",
   "execution_count": 110,
   "metadata": {},
   "outputs": [],
   "source": [
    "# Load the data as lists of integers.\n",
    "(x_train, y_train), (x_test, y_test) = imdb.load_data(num_words=max_features)\n",
    "\n",
    "# This turns our lists of integers\n",
    "# into a 2D integer tensor of shape `(samples, maxlen)`\n",
    "x_train = preprocessing.sequence.pad_sequences(x_train, maxlen=maxlen)\n",
    "x_test = preprocessing.sequence.pad_sequences(x_test, maxlen=maxlen)"
   ]
  },
  {
   "cell_type": "code",
   "execution_count": 111,
   "metadata": {},
   "outputs": [
    {
     "name": "stdout",
     "output_type": "stream",
     "text": [
      "_________________________________________________________________\n",
      "Layer (type)                 Output Shape              Param #   \n",
      "=================================================================\n",
      "embedding_20 (Embedding)     (None, 200, 8)            80000     \n",
      "_________________________________________________________________\n",
      "flatten_14 (Flatten)         (None, 1600)              0         \n",
      "_________________________________________________________________\n",
      "dense_21 (Dense)             (None, 1)                 1601      \n",
      "=================================================================\n",
      "Total params: 81,601\n",
      "Trainable params: 81,601\n",
      "Non-trainable params: 0\n",
      "_________________________________________________________________\n",
      "Train on 20000 samples, validate on 5000 samples\n",
      "Epoch 1/100\n",
      "20000/20000 [==============================] - 4s 181us/step - loss: 0.5990 - acc: 0.6921 - val_loss: 0.4076 - val_acc: 0.8392\n",
      "Epoch 2/100\n",
      "20000/20000 [==============================] - 3s 157us/step - loss: 0.3120 - acc: 0.8786 - val_loss: 0.2985 - val_acc: 0.8788\n",
      "Epoch 3/100\n",
      "20000/20000 [==============================] - 3s 157us/step - loss: 0.2360 - acc: 0.9078 - val_loss: 0.2833 - val_acc: 0.8850\n",
      "Epoch 4/100\n",
      "20000/20000 [==============================] - 3s 156us/step - loss: 0.2016 - acc: 0.9234 - val_loss: 0.2776 - val_acc: 0.8894\n",
      "Epoch 5/100\n",
      "20000/20000 [==============================] - 3s 156us/step - loss: 0.1782 - acc: 0.9326 - val_loss: 0.2801 - val_acc: 0.8874\n",
      "Epoch 6/100\n",
      "20000/20000 [==============================] - 3s 157us/step - loss: 0.1600 - acc: 0.9390 - val_loss: 0.2842 - val_acc: 0.8898\n",
      "Epoch 7/100\n",
      "20000/20000 [==============================] - 3s 158us/step - loss: 0.1422 - acc: 0.9475 - val_loss: 0.2900 - val_acc: 0.8892\n",
      "Epoch 8/100\n",
      "20000/20000 [==============================] - 3s 157us/step - loss: 0.1272 - acc: 0.9545 - val_loss: 0.2988 - val_acc: 0.8850\n",
      "Epoch 9/100\n",
      "20000/20000 [==============================] - 3s 158us/step - loss: 0.1124 - acc: 0.9607 - val_loss: 0.3106 - val_acc: 0.8840\n",
      "25000/25000 [==============================] - 2s 65us/step\n",
      "25000/25000 [==============================] - 2s 68us/step\n"
     ]
    }
   ],
   "source": [
    "model = Sequential()\n",
    "# We specify the maximum input length to our Embedding layer\n",
    "# so we can later flatten the embedded inputs\n",
    "model.add(Embedding(10000, 8, input_length=maxlen))\n",
    "# After the Embedding layer, \n",
    "# our activations have shape `(samples, maxlen, 8)`.\n",
    "\n",
    "# We flatten the 3D tensor of embeddings \n",
    "# into a 2D tensor of shape `(samples, maxlen * 8)`\n",
    "model.add(Flatten())\n",
    "\n",
    "# We add the classifier on top\n",
    "model.add(Dense(1, activation='sigmoid'))\n",
    "model.compile(optimizer='rmsprop', loss='binary_crossentropy', metrics=['acc'])\n",
    "model.summary()\n",
    "\n",
    "start = time.perf_counter()\n",
    "history = model.fit(x_train, y_train,\n",
    "                    epochs=max_epochs,\n",
    "                    batch_size=32,\n",
    "                    validation_split=0.2,\n",
    "                   callbacks = [earlystop_callback])\n",
    "elapsed = time.perf_counter() - start\n",
    "y_preds = model.predict(x_test, verbose=0)\n",
    "y_classes = model.predict_classes(x_test, verbose=0)\n",
    "\n",
    "updateModeldata('Dense Embedding')"
   ]
  },
  {
   "cell_type": "code",
   "execution_count": 112,
   "metadata": {},
   "outputs": [
    {
     "name": "stdout",
     "output_type": "stream",
     "text": [
      "_________________________________________________________________\n",
      "Layer (type)                 Output Shape              Param #   \n",
      "=================================================================\n",
      "embedding_21 (Embedding)     (None, 200, 32)           320000    \n",
      "_________________________________________________________________\n",
      "conv1d_4 (Conv1D)            (None, 200, 32)           3104      \n",
      "_________________________________________________________________\n",
      "max_pooling1d_4 (MaxPooling1 (None, 100, 32)           0         \n",
      "_________________________________________________________________\n",
      "flatten_15 (Flatten)         (None, 3200)              0         \n",
      "_________________________________________________________________\n",
      "dense_22 (Dense)             (None, 250)               800250    \n",
      "_________________________________________________________________\n",
      "dense_23 (Dense)             (None, 1)                 251       \n",
      "=================================================================\n",
      "Total params: 1,123,605\n",
      "Trainable params: 1,123,605\n",
      "Non-trainable params: 0\n",
      "_________________________________________________________________\n",
      "Train on 20000 samples, validate on 5000 samples\n",
      "Epoch 1/100\n",
      "20000/20000 [==============================] - 5s 269us/step - loss: 0.4271 - acc: 0.7726 - val_loss: 0.2847 - val_acc: 0.8786\n",
      "Epoch 2/100\n",
      "20000/20000 [==============================] - 5s 237us/step - loss: 0.1814 - acc: 0.9306 - val_loss: 0.3074 - val_acc: 0.8728\n",
      "Epoch 3/100\n",
      "20000/20000 [==============================] - 5s 237us/step - loss: 0.0757 - acc: 0.9769 - val_loss: 0.3838 - val_acc: 0.8708\n",
      "Epoch 4/100\n",
      "20000/20000 [==============================] - 5s 237us/step - loss: 0.0239 - acc: 0.9932 - val_loss: 0.5462 - val_acc: 0.8638\n",
      "Epoch 5/100\n",
      "20000/20000 [==============================] - 5s 236us/step - loss: 0.0044 - acc: 0.9992 - val_loss: 0.6568 - val_acc: 0.8718\n",
      "Epoch 6/100\n",
      "20000/20000 [==============================] - 5s 238us/step - loss: 4.1020e-04 - acc: 1.0000 - val_loss: 0.7366 - val_acc: 0.8710\n",
      "25000/25000 [==============================] - 2s 83us/step\n",
      "25000/25000 [==============================] - 2s 83us/step\n"
     ]
    }
   ],
   "source": [
    "from keras.layers.embeddings import Embedding\n",
    "from keras.preprocessing import sequence\n",
    "\n",
    "(X_train, y_train), (X_test, y_test) = imdb.load_data(num_words=max_features)\n",
    "X_train = sequence.pad_sequences(X_train, maxlen=maxlen)\n",
    "X_test = sequence.pad_sequences(X_test, maxlen=maxlen)\n",
    "# create the model\n",
    "model = Sequential()\n",
    "model.add(Embedding(max_features, 32, input_length=maxlen))\n",
    "model.add(Conv1D(32, 3, padding='same', activation='relu'))\n",
    "model.add(MaxPooling1D())\n",
    "model.add(Flatten())\n",
    "model.add(Dense(250, activation='relu'))\n",
    "model.add(Dense(1, activation='sigmoid'))\n",
    "model.compile(loss='binary_crossentropy', optimizer='adam', metrics=['accuracy'])\n",
    "model.summary()\n",
    "\n",
    "start = time.perf_counter()\n",
    "history = model.fit(x_train, y_train,\n",
    "                    epochs=max_epochs,\n",
    "                    batch_size=32,\n",
    "                    validation_split=0.2,\n",
    "                   callbacks = [earlystop_callback])\n",
    "elapsed = time.perf_counter() - start\n",
    "y_preds = model.predict(x_test, verbose=0)\n",
    "y_classes = model.predict_classes(x_test, verbose=0)\n",
    "\n",
    "updateModeldata('Convolutional Embedding')"
   ]
  },
  {
   "cell_type": "code",
   "execution_count": 114,
   "metadata": {},
   "outputs": [
    {
     "name": "stdout",
     "output_type": "stream",
     "text": [
      "_________________________________________________________________\n",
      "Layer (type)                 Output Shape              Param #   \n",
      "=================================================================\n",
      "embedding_23 (Embedding)     (None, 200, 32)           320000    \n",
      "_________________________________________________________________\n",
      "lstm_2 (LSTM)                (None, 100)               53200     \n",
      "_________________________________________________________________\n",
      "dense_25 (Dense)             (None, 1)                 101       \n",
      "=================================================================\n",
      "Total params: 373,301\n",
      "Trainable params: 373,301\n",
      "Non-trainable params: 0\n",
      "_________________________________________________________________\n",
      "Train on 20000 samples, validate on 5000 samples\n",
      "Epoch 1/100\n",
      "20000/20000 [==============================] - 171s 9ms/step - loss: 0.4468 - acc: 0.7793 - val_loss: 0.3672 - val_acc: 0.8400\n",
      "Epoch 2/100\n",
      "20000/20000 [==============================] - 172s 9ms/step - loss: 0.2631 - acc: 0.8962 - val_loss: 0.3311 - val_acc: 0.8572\n",
      "Epoch 3/100\n",
      "20000/20000 [==============================] - 172s 9ms/step - loss: 0.1927 - acc: 0.9266 - val_loss: 0.3275 - val_acc: 0.8658\n",
      "Epoch 4/100\n",
      "20000/20000 [==============================] - 171s 9ms/step - loss: 0.1593 - acc: 0.9424 - val_loss: 0.3784 - val_acc: 0.8732\n",
      "Epoch 5/100\n",
      "20000/20000 [==============================] - 170s 8ms/step - loss: 0.1115 - acc: 0.9599 - val_loss: 0.4064 - val_acc: 0.8646\n",
      "Epoch 6/100\n",
      "20000/20000 [==============================] - 172s 9ms/step - loss: 0.0829 - acc: 0.9719 - val_loss: 0.4524 - val_acc: 0.8618\n",
      "Epoch 7/100\n",
      "20000/20000 [==============================] - 171s 9ms/step - loss: 0.0772 - acc: 0.9746 - val_loss: 0.4675 - val_acc: 0.8536\n",
      "Epoch 8/100\n",
      "20000/20000 [==============================] - 170s 9ms/step - loss: 0.0524 - acc: 0.9835 - val_loss: 0.5604 - val_acc: 0.8430\n",
      "Epoch 9/100\n",
      "20000/20000 [==============================] - 172s 9ms/step - loss: 0.0396 - acc: 0.9877 - val_loss: 0.6762 - val_acc: 0.8584\n",
      "25000/25000 [==============================] - 78s 3ms/step\n",
      "25000/25000 [==============================] - 79s 3ms/step\n"
     ]
    }
   ],
   "source": [
    "(x_train, y_train), (x_test, y_test) = imdb.load_data(num_words=max_features)\n",
    "# truncate and pad input sequences\n",
    "max_review_length = 500\n",
    "x_train = sequence.pad_sequences(x_train, maxlen=maxlen)\n",
    "x_test = sequence.pad_sequences(x_test, maxlen=maxlen)\n",
    "# create the model\n",
    "model = Sequential()\n",
    "model.add(Embedding(max_features, 32, input_length=maxlen))\n",
    "model.add(LSTM(100))\n",
    "model.add(Dense(1, activation='sigmoid'))\n",
    "model.compile(loss='binary_crossentropy', optimizer='adam', metrics=['accuracy'])\n",
    "model.summary()\n",
    "start = time.perf_counter()\n",
    "history = model.fit(x_train, y_train,\n",
    "                    epochs=max_epochs,\n",
    "                    batch_size=32,\n",
    "                    validation_split=0.2,\n",
    "                   callbacks = [earlystop_callback])\n",
    "elapsed = time.perf_counter() - start\n",
    "y_preds = model.predict(x_test, verbose=0)\n",
    "y_classes = model.predict_classes(x_test, verbose=0)\n",
    "\n",
    "updateModeldata('LSTM Embedding')"
   ]
  },
  {
   "cell_type": "code",
   "execution_count": 117,
   "metadata": {},
   "outputs": [],
   "source": [
    "import os\n",
    "\n",
    "imdb_dir = '/home/jbarker6706/Unbuntu/Data/aclImdb_v1/aclImdb'\n",
    "train_dir = os.path.join(imdb_dir, 'train')\n",
    "\n",
    "labels = []\n",
    "texts = []\n",
    "\n",
    "for label_type in ['neg', 'pos']:\n",
    "    dir_name = os.path.join(train_dir, label_type)\n",
    "    for fname in os.listdir(dir_name):\n",
    "        if fname[-4:] == '.txt':\n",
    "            f = open(os.path.join(dir_name, fname))\n",
    "            texts.append(f.read())\n",
    "            f.close()\n",
    "            if label_type == 'neg':\n",
    "                labels.append(0)\n",
    "            else:\n",
    "                labels.append(1)"
   ]
  },
  {
   "cell_type": "code",
   "execution_count": 118,
   "metadata": {},
   "outputs": [
    {
     "name": "stdout",
     "output_type": "stream",
     "text": [
      "Found 88582 unique tokens.\n",
      "Shape of data tensor: (25000, 100)\n",
      "Shape of label tensor: (25000,)\n"
     ]
    }
   ],
   "source": [
    "from keras.preprocessing.text import Tokenizer\n",
    "from keras.preprocessing.sequence import pad_sequences\n",
    "import numpy as np\n",
    "\n",
    "maxlen = 100  # We will cut reviews after 100 words\n",
    "training_samples = 8000  # We will be training on 200 samples\n",
    "test_samples = 10000  # We will be validating on 10000 samples\n",
    "max_words = 10000  # We will only consider the top 10,000 words in the dataset\n",
    "\n",
    "tokenizer = Tokenizer(num_words=max_words)\n",
    "tokenizer.fit_on_texts(texts)\n",
    "sequences = tokenizer.texts_to_sequences(texts)\n",
    "\n",
    "word_index = tokenizer.word_index\n",
    "print('Found %s unique tokens.' % len(word_index))\n",
    "\n",
    "data = pad_sequences(sequences, maxlen=maxlen)\n",
    "\n",
    "labels = np.asarray(labels)\n",
    "print('Shape of data tensor:', data.shape)\n",
    "print('Shape of label tensor:', labels.shape)\n",
    "\n",
    "# Split the data into a training set and a validation set\n",
    "# But first, shuffle the data, since we started from data\n",
    "# where sample are ordered (all negative first, then all positive).\n",
    "indices = np.arange(data.shape[0])\n",
    "np.random.shuffle(indices)\n",
    "data = data[indices]\n",
    "labels = labels[indices]\n",
    "\n",
    "x_train = data[:training_samples]\n",
    "y_train = labels[:training_samples]\n",
    "x_test = data[training_samples: training_samples + test_samples]\n",
    "y_test = labels[training_samples: training_samples + test_samples]"
   ]
  },
  {
   "cell_type": "code",
   "execution_count": 119,
   "metadata": {},
   "outputs": [
    {
     "name": "stdout",
     "output_type": "stream",
     "text": [
      "Found 400000 word vectors.\n"
     ]
    }
   ],
   "source": [
    "glove_dir = '/home/jbarker6706/Unbuntu/Data/glove.6B/'\n",
    "\n",
    "embeddings_index = {}\n",
    "f = open(os.path.join(glove_dir, 'glove.6B.100d.txt'))\n",
    "for line in f:\n",
    "    values = line.split()\n",
    "    word = values[0]\n",
    "    coefs = np.asarray(values[1:], dtype='float32')\n",
    "    embeddings_index[word] = coefs\n",
    "f.close()\n",
    "\n",
    "print('Found %s word vectors.' % len(embeddings_index))"
   ]
  },
  {
   "cell_type": "code",
   "execution_count": 120,
   "metadata": {},
   "outputs": [],
   "source": [
    "embedding_dim = 100\n",
    "\n",
    "embedding_matrix = np.zeros((max_words, embedding_dim))\n",
    "for word, i in word_index.items():\n",
    "    embedding_vector = embeddings_index.get(word)\n",
    "    if i < max_words:\n",
    "        if embedding_vector is not None:\n",
    "            # Words not found in embedding index will be all-zeros.\n",
    "            embedding_matrix[i] = embedding_vector"
   ]
  },
  {
   "cell_type": "code",
   "execution_count": 121,
   "metadata": {},
   "outputs": [
    {
     "name": "stdout",
     "output_type": "stream",
     "text": [
      "_________________________________________________________________\n",
      "Layer (type)                 Output Shape              Param #   \n",
      "=================================================================\n",
      "embedding_24 (Embedding)     (None, 100, 100)          1000000   \n",
      "_________________________________________________________________\n",
      "flatten_16 (Flatten)         (None, 10000)             0         \n",
      "_________________________________________________________________\n",
      "dense_26 (Dense)             (None, 32)                320032    \n",
      "_________________________________________________________________\n",
      "dense_27 (Dense)             (None, 1)                 33        \n",
      "=================================================================\n",
      "Total params: 1,320,065\n",
      "Trainable params: 1,320,065\n",
      "Non-trainable params: 0\n",
      "_________________________________________________________________\n"
     ]
    }
   ],
   "source": [
    "model = Sequential()\n",
    "model.add(Embedding(max_words, embedding_dim, input_length=maxlen))\n",
    "model.add(Flatten())\n",
    "model.add(Dense(32, activation='relu'))\n",
    "model.add(Dense(1, activation='sigmoid'))\n",
    "model.summary()"
   ]
  },
  {
   "cell_type": "code",
   "execution_count": 122,
   "metadata": {},
   "outputs": [],
   "source": [
    "model.layers[0].set_weights([embedding_matrix])\n",
    "model.layers[0].trainable = False"
   ]
  },
  {
   "cell_type": "code",
   "execution_count": 123,
   "metadata": {},
   "outputs": [
    {
     "name": "stdout",
     "output_type": "stream",
     "text": [
      "Train on 6400 samples, validate on 1600 samples\n",
      "Epoch 1/100\n",
      "6400/6400 [==============================] - 2s 315us/step - loss: 0.7044 - acc: 0.5067 - val_loss: 0.6933 - val_acc: 0.4925\n",
      "Epoch 2/100\n",
      "6400/6400 [==============================] - 1s 185us/step - loss: 0.6931 - acc: 0.5081 - val_loss: 0.6933 - val_acc: 0.4925\n",
      "Epoch 3/100\n",
      "6400/6400 [==============================] - 1s 184us/step - loss: 0.6930 - acc: 0.5088 - val_loss: 0.6934 - val_acc: 0.4925\n",
      "Epoch 4/100\n",
      "6400/6400 [==============================] - 1s 186us/step - loss: 0.6924 - acc: 0.5089 - val_loss: 0.6934 - val_acc: 0.4925\n",
      "Epoch 5/100\n",
      "6400/6400 [==============================] - 1s 187us/step - loss: 0.6926 - acc: 0.5091 - val_loss: 0.6935 - val_acc: 0.4925\n",
      "Epoch 6/100\n",
      "6400/6400 [==============================] - 1s 186us/step - loss: 0.6926 - acc: 0.5089 - val_loss: 0.6932 - val_acc: 0.4931\n",
      "8000/8000 [==============================] - 1s 74us/step\n",
      "10000/10000 [==============================] - 1s 74us/step\n"
     ]
    }
   ],
   "source": [
    "model.compile(optimizer='adam',\n",
    "              loss='binary_crossentropy',\n",
    "              metrics=['acc'])\n",
    "start = time.perf_counter()\n",
    "history = model.fit(x_train, y_train,\n",
    "                    epochs=max_epochs,\n",
    "                    batch_size=32,\n",
    "                    validation_split=0.2,\n",
    "                    callbacks = [earlystop_callback])\n",
    "model.save_weights('pre_trained_glove_model.h5')\n",
    "elapsed = time.perf_counter() - start\n",
    "y_preds = model.predict(x_test, verbose=0)\n",
    "y_classes = model.predict_classes(x_test, verbose=0)\n",
    "updateModeldata('Dense glove.6B.100d')"
   ]
  },
  {
   "cell_type": "code",
   "execution_count": 128,
   "metadata": {},
   "outputs": [
    {
     "name": "stdout",
     "output_type": "stream",
     "text": [
      "100\n"
     ]
    }
   ],
   "source": [
    "print(maxlen)"
   ]
  },
  {
   "cell_type": "code",
   "execution_count": 166,
   "metadata": {},
   "outputs": [
    {
     "name": "stdout",
     "output_type": "stream",
     "text": [
      "_________________________________________________________________\n",
      "Layer (type)                 Output Shape              Param #   \n",
      "=================================================================\n",
      "embedding_41 (Embedding)     (None, 100, 100)          1000000   \n",
      "_________________________________________________________________\n",
      "conv1d_19 (Conv1D)           (None, 100, 32)           9632      \n",
      "_________________________________________________________________\n",
      "max_pooling1d_13 (MaxPooling (None, 50, 32)            0         \n",
      "_________________________________________________________________\n",
      "flatten_21 (Flatten)         (None, 1600)              0         \n",
      "_________________________________________________________________\n",
      "dense_38 (Dense)             (None, 1)                 1601      \n",
      "=================================================================\n",
      "Total params: 1,011,233\n",
      "Trainable params: 1,011,233\n",
      "Non-trainable params: 0\n",
      "_________________________________________________________________\n"
     ]
    }
   ],
   "source": [
    "model = Sequential()\n",
    "model.add(Embedding(max_words, embedding_dim, input_length=maxlen))\n",
    "model.add(Conv1D(32, 3, padding='same', activation='relu'))\n",
    "model.add(MaxPooling1D(pool_size=2))\n",
    "model.add(Flatten())\n",
    "model.add(Dense(1, activation='sigmoid'))\n",
    "model.summary()"
   ]
  },
  {
   "cell_type": "code",
   "execution_count": 167,
   "metadata": {},
   "outputs": [],
   "source": [
    "model.layers[0].set_weights([embedding_matrix])\n",
    "model.layers[0].trainable = False"
   ]
  },
  {
   "cell_type": "code",
   "execution_count": 163,
   "metadata": {},
   "outputs": [
    {
     "name": "stdout",
     "output_type": "stream",
     "text": [
      "(8000, 100)\n",
      "(8000,)\n"
     ]
    }
   ],
   "source": [
    "print(x_train.shape)\n",
    "print(y_train.shape)"
   ]
  },
  {
   "cell_type": "code",
   "execution_count": 168,
   "metadata": {},
   "outputs": [
    {
     "name": "stdout",
     "output_type": "stream",
     "text": [
      "Train on 6400 samples, validate on 1600 samples\n",
      "Epoch 1/100\n",
      "6400/6400 [==============================] - 3s 397us/step - loss: 0.6747 - acc: 0.5905 - val_loss: 0.6062 - val_acc: 0.6881\n",
      "Epoch 2/100\n",
      "6400/6400 [==============================] - 1s 208us/step - loss: 0.5280 - acc: 0.7377 - val_loss: 0.5212 - val_acc: 0.7481\n",
      "Epoch 3/100\n",
      "6400/6400 [==============================] - 1s 212us/step - loss: 0.4378 - acc: 0.7988 - val_loss: 0.4802 - val_acc: 0.7669\n",
      "Epoch 4/100\n",
      "6400/6400 [==============================] - 1s 209us/step - loss: 0.3844 - acc: 0.8286 - val_loss: 0.4697 - val_acc: 0.7800\n",
      "Epoch 5/100\n",
      "6400/6400 [==============================] - 1s 211us/step - loss: 0.3480 - acc: 0.8516 - val_loss: 0.4850 - val_acc: 0.7762\n",
      "Epoch 6/100\n",
      "6400/6400 [==============================] - 1s 210us/step - loss: 0.3087 - acc: 0.8731 - val_loss: 0.4772 - val_acc: 0.7725\n",
      "Epoch 7/100\n",
      "6400/6400 [==============================] - 1s 210us/step - loss: 0.2695 - acc: 0.8977 - val_loss: 0.5059 - val_acc: 0.7712\n",
      "Epoch 8/100\n",
      "6400/6400 [==============================] - 1s 210us/step - loss: 0.2371 - acc: 0.9166 - val_loss: 0.5019 - val_acc: 0.7738\n",
      "Epoch 9/100\n",
      "6400/6400 [==============================] - 1s 211us/step - loss: 0.2089 - acc: 0.9306 - val_loss: 0.5195 - val_acc: 0.7662\n",
      "8000/8000 [==============================] - 1s 86us/step\n",
      "10000/10000 [==============================] - 1s 86us/step\n"
     ]
    }
   ],
   "source": [
    "model.compile(optimizer='adam',\n",
    "              loss='binary_crossentropy',\n",
    "              metrics=['acc'])\n",
    "start = time.perf_counter()\n",
    "history = model.fit(x_train, y_train,\n",
    "                    epochs=max_epochs,\n",
    "                    batch_size=32,\n",
    "                    validation_split=0.2,\n",
    "                    callbacks = [earlystop_callback])\n",
    "model.save_weights('pre_trained_glove_model.h5')\n",
    "elapsed = time.perf_counter() - start\n",
    "y_preds = model.predict(x_test, verbose=0)\n",
    "y_classes = model.predict_classes(x_test, verbose=0)\n",
    "updateModeldata('Convolutional glove.6B.100d')"
   ]
  },
  {
   "cell_type": "code",
   "execution_count": 151,
   "metadata": {},
   "outputs": [
    {
     "name": "stdout",
     "output_type": "stream",
     "text": [
      "_________________________________________________________________\n",
      "Layer (type)                 Output Shape              Param #   \n",
      "=================================================================\n",
      "embedding_37 (Embedding)     (None, 100, 100)          1000000   \n",
      "_________________________________________________________________\n",
      "lstm_3 (LSTM)                (None, 100)               80400     \n",
      "_________________________________________________________________\n",
      "dense_34 (Dense)             (None, 1)                 101       \n",
      "=================================================================\n",
      "Total params: 1,080,501\n",
      "Trainable params: 1,080,501\n",
      "Non-trainable params: 0\n",
      "_________________________________________________________________\n"
     ]
    }
   ],
   "source": [
    "model = Sequential()\n",
    "model.add(Embedding(max_words, embedding_dim, input_length=maxlen))\n",
    "model.add(LSTM(100))\n",
    "model.add(Dense(1, activation='sigmoid'))\n",
    "model.summary()"
   ]
  },
  {
   "cell_type": "code",
   "execution_count": 152,
   "metadata": {},
   "outputs": [],
   "source": [
    "model.layers[0].set_weights([embedding_matrix])\n",
    "model.layers[0].trainable = False"
   ]
  },
  {
   "cell_type": "code",
   "execution_count": 153,
   "metadata": {},
   "outputs": [
    {
     "name": "stdout",
     "output_type": "stream",
     "text": [
      "_________________________________________________________________\n",
      "Layer (type)                 Output Shape              Param #   \n",
      "=================================================================\n",
      "embedding_37 (Embedding)     (None, 100, 100)          1000000   \n",
      "_________________________________________________________________\n",
      "lstm_3 (LSTM)                (None, 100)               80400     \n",
      "_________________________________________________________________\n",
      "dense_34 (Dense)             (None, 1)                 101       \n",
      "=================================================================\n",
      "Total params: 1,080,501\n",
      "Trainable params: 80,501\n",
      "Non-trainable params: 1,000,000\n",
      "_________________________________________________________________\n",
      "Train on 6400 samples, validate on 1600 samples\n",
      "Epoch 1/100\n",
      "6400/6400 [==============================] - 33s 5ms/step - loss: 0.6252 - acc: 0.6425 - val_loss: 0.5366 - val_acc: 0.7438\n",
      "Epoch 2/100\n",
      "6400/6400 [==============================] - 31s 5ms/step - loss: 0.5182 - acc: 0.7473 - val_loss: 0.4554 - val_acc: 0.7913\n",
      "Epoch 3/100\n",
      "6400/6400 [==============================] - 32s 5ms/step - loss: 0.4668 - acc: 0.7773 - val_loss: 0.4429 - val_acc: 0.7950\n",
      "Epoch 4/100\n",
      "6400/6400 [==============================] - 32s 5ms/step - loss: 0.4249 - acc: 0.8000 - val_loss: 0.4164 - val_acc: 0.8119\n",
      "Epoch 5/100\n",
      "6400/6400 [==============================] - 33s 5ms/step - loss: 0.3959 - acc: 0.8194 - val_loss: 0.3938 - val_acc: 0.8219\n",
      "Epoch 6/100\n",
      "6400/6400 [==============================] - 32s 5ms/step - loss: 0.3677 - acc: 0.8356 - val_loss: 0.3832 - val_acc: 0.8269\n",
      "Epoch 7/100\n",
      "6400/6400 [==============================] - 32s 5ms/step - loss: 0.3298 - acc: 0.8542 - val_loss: 0.3856 - val_acc: 0.8269\n",
      "Epoch 8/100\n",
      "6400/6400 [==============================] - 32s 5ms/step - loss: 0.2999 - acc: 0.8688 - val_loss: 0.4154 - val_acc: 0.8187\n",
      "Epoch 9/100\n",
      "6400/6400 [==============================] - 33s 5ms/step - loss: 0.2713 - acc: 0.8847 - val_loss: 0.4154 - val_acc: 0.8156\n",
      "Epoch 10/100\n",
      "6400/6400 [==============================] - 32s 5ms/step - loss: 0.2274 - acc: 0.9080 - val_loss: 0.4194 - val_acc: 0.8281\n",
      "Epoch 11/100\n",
      "6400/6400 [==============================] - 32s 5ms/step - loss: 0.1950 - acc: 0.9211 - val_loss: 0.4338 - val_acc: 0.8275\n",
      "8000/8000 [==============================] - 16s 2ms/step\n",
      "10000/10000 [==============================] - 20s 2ms/step\n"
     ]
    }
   ],
   "source": [
    "model.compile(loss='binary_crossentropy', optimizer='adam', metrics=['accuracy'])\n",
    "model.summary()\n",
    "start = time.perf_counter()\n",
    "history = model.fit(x_train, y_train,\n",
    "                    epochs=max_epochs,\n",
    "                    batch_size=32,\n",
    "                    validation_split=0.2,\n",
    "                   callbacks = [earlystop_callback])\n",
    "elapsed = time.perf_counter() - start\n",
    "y_preds = model.predict(x_test, verbose=0)\n",
    "y_classes = model.predict_classes(x_test, verbose=0)\n",
    "\n",
    "updateModeldata('LSTM glove.6B.100d')"
   ]
  },
  {
   "cell_type": "code",
   "execution_count": 170,
   "metadata": {},
   "outputs": [
    {
     "name": "stdout",
     "output_type": "stream",
     "text": [
      "+-----------------------------+--------------+--------------------+-------------------+\n",
      "|           Network           | Process_Time | Train_Set_Accuracy | Test_Set_Accuracy |\n",
      "+-----------------------------+--------------+--------------------+-------------------+\n",
      "|       Dense Embedding       |    28.849    |       0.952        |       0.874       |\n",
      "|   Convolutional Embedding   |    29.257    |       0.974        |       0.862       |\n",
      "|        LSTM Embedding       |   1541.407   |       0.967        |       0.847       |\n",
      "|     Dense glove.6B.100d     |    8.379     |       0.506        |       0.495       |\n",
      "|      LSTM glove.6B.100d     |   355.175    |       0.925        |       0.819       |\n",
      "| Convolutional glove.6B.100d |    13.761    |       0.923        |       0.756       |\n",
      "+-----------------------------+--------------+--------------------+-------------------+\n"
     ]
    }
   ],
   "source": [
    "from prettytable import PrettyTable\n",
    "table = PrettyTable(['Network','Process_Time', \n",
    "                     'Train_Set_Accuracy', 'Test_Set_Accuracy'])\n",
    "for x in range(0, 6):\n",
    "    table.add_row([Networks[x],round(Processing_Time[x], 3), \n",
    "                   round(Training_Set_Accuracy[x], 3), \n",
    "                   round(Test_Set_Accuracy[x], 3)])\n",
    "print(table)\n"
   ]
  },
  {
   "cell_type": "code",
   "execution_count": 171,
   "metadata": {},
   "outputs": [
    {
     "data": {
      "image/png": "[encoded data removed]",
      "text/plain": [
       "<matplotlib.figure.Figure at 0x7ff364456400>"
      ]
     },
     "metadata": {},
     "output_type": "display_data"
    },
    {
     "name": "stdout",
     "output_type": "stream",
     "text": [
      "Accuracy: 0.874000\n",
      "Precision: 0.874359\n",
      "Recall: 0.873520\n",
      "F1 score: 0.873939\n",
      "Cohens kappa: 0.748000\n",
      "ROC AUC: 0.945366\n",
      "[[10931  1569]\n",
      " [ 1581 10919]]\n"
     ]
    },
    {
     "data": {
      "image/png": "[encoded data removed]",
      "text/plain": [
       "<matplotlib.figure.Figure at 0x7ff36d452be0>"
      ]
     },
     "metadata": {},
     "output_type": "display_data"
    },
    {
     "name": "stdout",
     "output_type": "stream",
     "text": [
      "Accuracy: 0.862000\n",
      "Precision: 0.862755\n",
      "Recall: 0.860960\n",
      "F1 score: 0.861856\n",
      "Cohens kappa: 0.724000\n",
      "ROC AUC: 0.936985\n",
      "[[10788  1712]\n",
      " [ 1738 10762]]\n"
     ]
    },
    {
     "data": {
      "image/png": "[encoded data removed]",
      "text/plain": [
       "<matplotlib.figure.Figure at 0x7ff36d452cc0>"
      ]
     },
     "metadata": {},
     "output_type": "display_data"
    },
    {
     "name": "stdout",
     "output_type": "stream",
     "text": [
      "Accuracy: 0.846560\n",
      "Precision: 0.841210\n",
      "Recall: 0.854400\n",
      "F1 score: 0.847754\n",
      "Cohens kappa: 0.693120\n",
      "ROC AUC: 0.911411\n",
      "[[10484  2016]\n",
      " [ 1820 10680]]\n"
     ]
    },
    {
     "data": {
      "image/png": "[encoded data removed]",
      "text/plain": [
       "<matplotlib.figure.Figure at 0x7ff3643298d0>"
      ]
     },
     "metadata": {},
     "output_type": "display_data"
    },
    {
     "name": "stdout",
     "output_type": "stream",
     "text": [
      "Accuracy: 0.494900\n",
      "Precision: 0.000000\n",
      "Recall: 0.000000\n",
      "F1 score: 0.000000\n",
      "Cohens kappa: 0.000000\n",
      "ROC AUC: 0.500101\n",
      "[[4949    0]\n",
      " [5051    0]]\n"
     ]
    },
    {
     "name": "stderr",
     "output_type": "stream",
     "text": [
      "/usr/lib/python3/dist-packages/sklearn/metrics/classification.py:1135: UndefinedMetricWarning: Precision is ill-defined and being set to 0.0 due to no predicted samples.\n",
      "  'precision', 'predicted', average, warn_for)\n",
      "/usr/lib/python3/dist-packages/sklearn/metrics/classification.py:1135: UndefinedMetricWarning: F-score is ill-defined and being set to 0.0 due to no predicted samples.\n",
      "  'precision', 'predicted', average, warn_for)\n"
     ]
    },
    {
     "data": {
      "image/png": "[encoded data removed]",
      "text/plain": [
       "<matplotlib.figure.Figure at 0x7ff36432eb00>"
      ]
     },
     "metadata": {},
     "output_type": "display_data"
    },
    {
     "name": "stdout",
     "output_type": "stream",
     "text": [
      "Accuracy: 0.819300\n",
      "Precision: 0.794909\n",
      "Recall: 0.865571\n",
      "F1 score: 0.828737\n",
      "Cohens kappa: 0.638231\n",
      "ROC AUC: 0.901842\n",
      "[[3821 1128]\n",
      " [ 679 4372]]\n"
     ]
    },
    {
     "data": {
      "image/png": "[encoded data removed]",
      "text/plain": [
       "<matplotlib.figure.Figure at 0x7ff3641af470>"
      ]
     },
     "metadata": {},
     "output_type": "display_data"
    },
    {
     "name": "stdout",
     "output_type": "stream",
     "text": [
      "Accuracy: 0.755900\n",
      "Precision: 0.742746\n",
      "Recall: 0.790537\n",
      "F1 score: 0.765896\n",
      "Cohens kappa: 0.511425\n",
      "ROC AUC: 0.836420\n",
      "[[3566 1383]\n",
      " [1058 3993]]\n"
     ]
    }
   ],
   "source": [
    "for x in range(0, 6):\n",
    "    plotLosses(Networks[x])\n",
    "    yhat_probs = Predicts[x][:, 0]\n",
    "    yhat_classes = Classes[x][:, 0]\n",
    "    y_test = TestLabels[x]\n",
    "    # accuracy: (tp + tn) / (p + n)\n",
    "    accuracy = accuracy_score(y_test, yhat_classes)\n",
    "    print('Accuracy: %f' % accuracy)\n",
    "    # precision tp / (tp + fp)\n",
    "    precision = precision_score(y_test, yhat_classes)\n",
    "    print('Precision: %f' % precision)\n",
    "    # recall: tp / (tp + fn)\n",
    "    recall = recall_score(y_test, yhat_classes)\n",
    "    print('Recall: %f' % recall)\n",
    "    # f1: 2 tp / (2 tp + fp + fn)\n",
    "    f1 = f1_score(y_test, yhat_classes)\n",
    "    print('F1 score: %f' % f1)\n",
    "    # kappa\n",
    "    kappa = cohen_kappa_score(y_test, yhat_classes)\n",
    "    print('Cohens kappa: %f' % kappa)\n",
    "    # ROC AUC\n",
    "    auc = roc_auc_score(y_test, yhat_probs)\n",
    "    print('ROC AUC: %f' % auc)\n",
    "    # confusion matrix\n",
    "    matrix = confusion_matrix(y_test, yhat_classes)\n",
    "    print(matrix)  "
   ]
  },
  {
   "cell_type": "code",
   "execution_count": null,
   "metadata": {},
   "outputs": [],
   "source": []
  }
 ],
 "metadata": {
  "kernelspec": {
   "display_name": "Python 3",
   "language": "python",
   "name": "python3"
  },
  "language_info": {
   "codemirror_mode": {
    "name": "ipython",
    "version": 3
   },
   "file_extension": ".py",
   "mimetype": "text/x-python",
   "name": "python",
   "nbconvert_exporter": "python",
   "pygments_lexer": "ipython3",
   "version": "3.6.9"
  }
 },
 "nbformat": 4,
 "nbformat_minor": 2
}
